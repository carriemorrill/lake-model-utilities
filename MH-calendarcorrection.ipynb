{
 "cells": [
  {
   "cell_type": "markdown",
   "metadata": {},
   "source": [
    "Calendar-correct monthly values for PMIP3/CMIP5 model MH simulations. Input file is a text file with timeseries of lake model input variables at one location. Requires bartlein_calendar.cp37-win_amd64.pyd for running Bartlein and Shafer 2019 Fortran calendar correction code (https://doi.org/10.5194/gmd-12-3889-2019) in python. There are separate blocks of code for each of the files I have converted thus far for the Africa project, for reproduceability documentation. Note that the \"calendar_type\" in the call to bartlein_calendar.cal_adjust_pmip needs to be specified according to each model (e.g., 365_day, gregorian, etc). This information can be found in the PMIP3/CMIP5 netcdf files."
   ]
  },
  {
   "cell_type": "code",
   "execution_count": 3,
   "metadata": {},
   "outputs": [],
   "source": [
    "import pandas as pd\n",
    "import glob\n",
    "import os\n",
    "import bartlein_calendar\n",
    "import numpy as np\n",
    "import copy"
   ]
  },
  {
   "cell_type": "code",
   "execution_count": 43,
   "metadata": {},
   "outputs": [
    {
     "data": {
      "text/plain": [
       "array([ 16.,  48.,  78., 110., 141., 171., 200., 230., 259., 288., 318.,\n",
       "       350.])"
      ]
     },
     "execution_count": 43,
     "metadata": {},
     "output_type": "execute_result"
    }
   ],
   "source": [
    "monmid_0k = [15,46,74,105,135,166,196,227,258,288,319,349]\n",
    "monbeg_6k = [1,33,63,95,126,157,186,216,245,274,304,334,366]  # from bartlein program\n",
    "monend_6k = [x - 1 for x in monbeg_6k]\n",
    "monbeg_6k.pop(12)\n",
    "monend_6k.pop(0)\n",
    "monmid_6k = np.mean([np.array(monbeg_6k), np.array(monend_6k)], axis=0)\n",
    "monmid_6k.round()"
   ]
  },
  {
   "cell_type": "code",
   "execution_count": 4,
   "metadata": {},
   "outputs": [
    {
     "name": "stdout",
     "output_type": "stream",
     "text": [
      "This module 'bartlein_calendar' is auto-generated with f2py (version:2).\n",
      "Functions:\n",
      "  var3d_out = cal_adjust_pmip(variable,vfill,endagebp,begagebp,begyrce,agestep,nsimyrs,calendar_type,var3d_in,nt=shape(var3d_in,2))\n",
      "  iagebp,iyearce,imonlen,imonmid,imonbeg,imonend,rmonlen,rmonmid,rmonbeg,rmonend,ve_day,ss_day,ndays = get_month_lengths(calendar_type,begagebp,agestep,nages,begyrce,nsimyrs)\n",
      "  rmonlen,rmonbeg,rmonmid,rmonend = monlen(yrlen,veqday,imonlen,eccen,perih)\n",
      "  time = kepler_time(eccen,t,theta_deg)\n",
      "  adjust_to_ref_length(rmonlen,rmonlenref,rmonlentarg)\n",
      "  adjust_to_ref_day(rmonday,rdayref,rdaytarg)\n",
      "  ryeartot = adjust_to_yeartot(rmonlen,ryeartottarg)\n",
      "  imonlen,iyeartot = integer_monlen(rmonlen,ndtarg)\n",
      "  imonbeg,imonmid,imonend = imon_begmidend(imonlen,rmonbeg)\n",
      "  eccen,obliq_deg,perih_deg,precc = giss_orbpars(year_type,year)\n",
      "  eccen,obliq,omegvp = orbpar(year)\n",
      "  veqday,ssday,perihelion,aphelion,ndays_in_year = giss_srevents(year_type,iyear,edayzy)\n",
      "  iyear,imonth,idate,ihour,iminut = dtoymdhm(day)\n",
      "  iyear,imonth,date = dtoymd(day)\n",
      "  xd_out = mon_to_day_ts(imonlen,xm_in,xfill,no_negatives,smooth,restore,ndtot,nw,nsw,nt=len(imonlen))\n",
      "  xm_adj = day_to_mon_ts(ndays,rmonbeg,rmonend,xd,xfill,ny=len(ndays),ndtot=len(xd))\n",
      "  xdh = hdaily(nd,xm,monlen,no_negatives,nm=len(xm))\n",
      "  a,b = harmonic_coeffs(y,nm=len(y))\n",
      "  yhat = xdhat(nd,monlen,a,b,nm=len(monlen))\n",
      "  dzero(monlen,xm,xd0,nm=len(monlen),nd=len(xd0))\n",
      ".\n"
     ]
    }
   ],
   "source": [
    "print(bartlein_calendar.__doc__)"
   ]
  },
  {
   "cell_type": "code",
   "execution_count": 42,
   "metadata": {},
   "outputs": [],
   "source": [
    "filename2 = 'C:\\\\Users\\\\carrie.morrill\\\\CMIP5\\\\Sylvia\\\\BCC-MH-Mlake.txt'\n",
    "mh = pd.read_csv(filename2, header=None, delim_whitespace=True)\n",
    "mh.columns = ['year','day','tas','huss','sfcWind','rsds','rlds','ps']\n",
    "mh_cc = copy.deepcopy(mh)\n",
    "mh_cc['day'] += np.tile((monmid_6k.round()-monmid_0k),100)\n",
    "for x in range(2,8):\n",
    "     hold = bartlein_calendar.cal_adjust_pmip(mh.columns[x],-999.,-6000.,-6000.,-999.,1.,100.,\"365_day\",np.reshape(mh.iloc[:,x].tolist(),(1,1,1200)),1200)\n",
    "     mh_cc.iloc[:,x]= np.transpose(hold[0,0,:])   \n",
    "np.savetxt('C:\\\\Users\\\\carrie.morrill\\\\CMIP5\\\\Sylvia\\\\BCC-MH-Mlake-CC.txt', mh_cc.to_numpy(), fmt=\"%5.1f %7.1f %6.2f %10.6f %6.2f %6.2f %6.2f %9.2f\")"
   ]
  },
  {
   "cell_type": "code",
   "execution_count": 44,
   "metadata": {},
   "outputs": [],
   "source": [
    "filename2 = 'C:\\\\Users\\\\carrie.morrill\\\\CMIP5\\\\Sylvia\\\\BCC-MH-Tlake.txt'\n",
    "mh = pd.read_csv(filename2, header=None, delim_whitespace=True)\n",
    "mh.columns = ['year','day','tas','huss','sfcWind','rsds','rlds','ps']\n",
    "mh_cc = copy.deepcopy(mh)\n",
    "mh_cc['day'] += np.tile((monmid_6k.round()-monmid_0k),100)\n",
    "for x in range(2,8):\n",
    "     hold = bartlein_calendar.cal_adjust_pmip(mh.columns[x],-999.,-6000.,-6000.,-999.,1.,100.,\"365_day\",np.reshape(mh.iloc[:,x].tolist(),(1,1,1200)),1200)\n",
    "     mh_cc.iloc[:,x]= np.transpose(hold[0,0,:])   \n",
    "np.savetxt('C:\\\\Users\\\\carrie.morrill\\\\CMIP5\\\\Sylvia\\\\BCC-MH-Tlake-CC.txt', mh_cc.to_numpy(), fmt=\"%5.1f %7.1f %6.2f %10.6f %6.2f %6.2f %6.2f %9.2f\")"
   ]
  },
  {
   "cell_type": "code",
   "execution_count": 45,
   "metadata": {},
   "outputs": [],
   "source": [
    "filename2 = 'C:\\\\Users\\\\carrie.morrill\\\\CMIP5\\\\Sylvia\\\\CCSM-MH-Mlake.txt'\n",
    "mh = pd.read_csv(filename2, header=None, delim_whitespace=True)\n",
    "mh.columns = ['year','day','tas','huss','sfcWind','rsds','rlds','ps']\n",
    "mh_cc = copy.deepcopy(mh)\n",
    "mh_cc['day'] += np.tile((monmid_6k.round()-monmid_0k),100)\n",
    "for x in range(2,8):\n",
    "     hold = bartlein_calendar.cal_adjust_pmip(mh.columns[x],-999.,-6000.,-6000.,-999.,1.,100.,\"365_day\",np.reshape(mh.iloc[:,x].tolist(),(1,1,1200)),1200)\n",
    "     mh_cc.iloc[:,x]= np.transpose(hold[0,0,:])   \n",
    "np.savetxt('C:\\\\Users\\\\carrie.morrill\\\\CMIP5\\\\Sylvia\\\\CCSM-MH-Mlake-CC.txt', mh_cc.to_numpy(), fmt=\"%5.1f %7.1f %6.2f %10.6f %6.2f %6.2f %6.2f %9.2f\")"
   ]
  },
  {
   "cell_type": "code",
   "execution_count": 46,
   "metadata": {},
   "outputs": [],
   "source": [
    "filename2 = 'C:\\\\Users\\\\carrie.morrill\\\\CMIP5\\\\Sylvia\\\\CCSM-MH-Tlake.txt'\n",
    "mh = pd.read_csv(filename2, header=None, delim_whitespace=True)\n",
    "mh.columns = ['year','day','tas','huss','sfcWind','rsds','rlds','ps']\n",
    "mh_cc = copy.deepcopy(mh)\n",
    "mh_cc['day'] += np.tile((monmid_6k.round()-monmid_0k),100)\n",
    "for x in range(2,8):\n",
    "     hold = bartlein_calendar.cal_adjust_pmip(mh.columns[x],-999.,-6000.,-6000.,-999.,1.,100.,\"365_day\",np.reshape(mh.iloc[:,x].tolist(),(1,1,1200)),1200)\n",
    "     mh_cc.iloc[:,x]= np.transpose(hold[0,0,:])   \n",
    "np.savetxt('C:\\\\Users\\\\carrie.morrill\\\\CMIP5\\\\Sylvia\\\\CCSM-MH-Tlake-CC.txt', mh_cc.to_numpy(), fmt=\"%5.1f %7.1f %6.2f %10.6f %6.2f %6.2f %6.2f %9.2f\")"
   ]
  },
  {
   "cell_type": "code",
   "execution_count": 47,
   "metadata": {},
   "outputs": [],
   "source": [
    "filename2 = 'C:\\\\Users\\\\carrie.morrill\\\\CMIP5\\\\Sylvia\\\\CNRM-MH-Mlake.txt'\n",
    "mh = pd.read_csv(filename2, header=None, delim_whitespace=True)\n",
    "mh.columns = ['year','day','tas','huss','sfcWind','rsds','rlds','ps']\n",
    "mh_cc = copy.deepcopy(mh)\n",
    "mh_cc['day'] += np.tile((monmid_6k.round()-monmid_0k),100)\n",
    "for x in range(2,8):\n",
    "     hold = bartlein_calendar.cal_adjust_pmip(mh.columns[x],-999.,-6000.,-6000.,-999.,1.,100.,\"gregorian\",np.reshape(mh.iloc[:,x].tolist(),(1,1,1200)),1200)\n",
    "     mh_cc.iloc[:,x]= np.transpose(hold[0,0,:])   \n",
    "np.savetxt('C:\\\\Users\\\\carrie.morrill\\\\CMIP5\\\\Sylvia\\\\CNRM-MH-Mlake-CC.txt', mh_cc.to_numpy(), fmt=\"%5.1f %7.1f %6.2f %10.6f %6.2f %6.2f %6.2f %9.2f\")"
   ]
  },
  {
   "cell_type": "code",
   "execution_count": 48,
   "metadata": {},
   "outputs": [],
   "source": [
    "filename2 = 'C:\\\\Users\\\\carrie.morrill\\\\CMIP5\\\\Sylvia\\\\CNRM-MH-Tlake.txt'\n",
    "mh = pd.read_csv(filename2, header=None, delim_whitespace=True)\n",
    "mh.columns = ['year','day','tas','huss','sfcWind','rsds','rlds','ps']\n",
    "mh_cc = copy.deepcopy(mh)\n",
    "mh_cc['day'] += np.tile((monmid_6k.round()-monmid_0k),100)\n",
    "for x in range(2,8):\n",
    "     hold = bartlein_calendar.cal_adjust_pmip(mh.columns[x],-999.,-6000.,-6000.,-999.,1.,100.,\"gregorian\",np.reshape(mh.iloc[:,x].tolist(),(1,1,1200)),1200)\n",
    "     mh_cc.iloc[:,x]= np.transpose(hold[0,0,:])   \n",
    "np.savetxt('C:\\\\Users\\\\carrie.morrill\\\\CMIP5\\\\Sylvia\\\\CNRM-MH-Tlake-CC.txt', mh_cc.to_numpy(), fmt=\"%5.1f %7.1f %6.2f %10.6f %6.2f %6.2f %6.2f %9.2f\")"
   ]
  },
  {
   "cell_type": "code",
   "execution_count": 51,
   "metadata": {},
   "outputs": [],
   "source": [
    "filename2 = 'C:\\\\Users\\\\carrie.morrill\\\\CMIP5\\\\Sylvia\\\\CSIRO-MH-Mlake.txt'\n",
    "mh = pd.read_csv(filename2, header=None, delim_whitespace=True)\n",
    "mh.columns = ['year','day','tas','hurs','sfcWind','rsds','rlds','ps']\n",
    "mh_cc = copy.deepcopy(mh)\n",
    "mh_cc['day'] += np.tile((monmid_6k.round()-monmid_0k),100)\n",
    "for x in range(2,8):\n",
    "     hold = bartlein_calendar.cal_adjust_pmip(mh.columns[x],-999.,-6000.,-6000.,-999.,1.,100.,\"365_day\",np.reshape(mh.iloc[:,x].tolist(),(1,1,1200)),1200)\n",
    "     mh_cc.iloc[:,x]= np.transpose(hold[0,0,:])   \n",
    "np.savetxt('C:\\\\Users\\\\carrie.morrill\\\\CMIP5\\\\Sylvia\\\\CSIRO-MH-Mlake-CC.txt', mh_cc.to_numpy(), fmt=\"%5.1f %7.1f %6.2f %10.6f %6.2f %6.2f %6.2f %9.2f\")"
   ]
  },
  {
   "cell_type": "code",
   "execution_count": 52,
   "metadata": {},
   "outputs": [],
   "source": [
    "filename2 = 'C:\\\\Users\\\\carrie.morrill\\\\CMIP5\\\\Sylvia\\\\CSIRO-MH-Tlake.txt'\n",
    "mh = pd.read_csv(filename2, header=None, delim_whitespace=True)\n",
    "mh.columns = ['year','day','tas','hurs','sfcWind','rsds','rlds','ps']\n",
    "mh_cc = copy.deepcopy(mh)\n",
    "mh_cc['day'] += np.tile((monmid_6k.round()-monmid_0k),100)\n",
    "for x in range(2,8):\n",
    "     hold = bartlein_calendar.cal_adjust_pmip(mh.columns[x],-999.,-6000.,-6000.,-999.,1.,100.,\"365_day\",np.reshape(mh.iloc[:,x].tolist(),(1,1,1200)),1200)\n",
    "     mh_cc.iloc[:,x]= np.transpose(hold[0,0,:])   \n",
    "np.savetxt('C:\\\\Users\\\\carrie.morrill\\\\CMIP5\\\\Sylvia\\\\CSIRO-MH-Tlake-CC.txt', mh_cc.to_numpy(), fmt=\"%5.1f %7.1f %6.2f %10.6f %6.2f %6.2f %6.2f %9.2f\")"
   ]
  },
  {
   "cell_type": "code",
   "execution_count": 53,
   "metadata": {},
   "outputs": [],
   "source": [
    "filename2 = 'C:\\\\Users\\\\carrie.morrill\\\\CMIP5\\\\Sylvia\\\\FGOALS-g2-MH-Mlake.txt'\n",
    "mh = pd.read_csv(filename2, header=None, delim_whitespace=True)\n",
    "mh.columns = ['year','day','tas','huss','sfcWind','rsds','rlds','ps']\n",
    "mh_cc = copy.deepcopy(mh)\n",
    "mh_cc['day'] += np.tile((monmid_6k.round()-monmid_0k),100)\n",
    "for x in range(2,8):\n",
    "     hold = bartlein_calendar.cal_adjust_pmip(mh.columns[x],-999.,-6000.,-6000.,-999.,1.,100.,\"365_day\",np.reshape(mh.iloc[:,x].tolist(),(1,1,1200)),1200)\n",
    "     mh_cc.iloc[:,x]= np.transpose(hold[0,0,:])   \n",
    "np.savetxt('C:\\\\Users\\\\carrie.morrill\\\\CMIP5\\\\Sylvia\\\\FGOALS-g2-MH-Mlake-CC.txt', mh_cc.to_numpy(), fmt=\"%5.1f %7.1f %6.2f %10.6f %6.2f %6.2f %6.2f %9.2f\")"
   ]
  },
  {
   "cell_type": "code",
   "execution_count": 54,
   "metadata": {},
   "outputs": [],
   "source": [
    "filename2 = 'C:\\\\Users\\\\carrie.morrill\\\\CMIP5\\\\Sylvia\\\\FGOALS-g2-MH-Tlake.txt'\n",
    "mh = pd.read_csv(filename2, header=None, delim_whitespace=True)\n",
    "mh.columns = ['year','day','tas','huss','sfcWind','rsds','rlds','ps']\n",
    "mh_cc = copy.deepcopy(mh)\n",
    "mh_cc['day'] += np.tile((monmid_6k.round()-monmid_0k),100)\n",
    "for x in range(2,8):\n",
    "     hold = bartlein_calendar.cal_adjust_pmip(mh.columns[x],-999.,-6000.,-6000.,-999.,1.,100.,\"365_day\",np.reshape(mh.iloc[:,x].tolist(),(1,1,1200)),1200)\n",
    "     mh_cc.iloc[:,x]= np.transpose(hold[0,0,:])   \n",
    "np.savetxt('C:\\\\Users\\\\carrie.morrill\\\\CMIP5\\\\Sylvia\\\\FGOALS-g2-MH-Tlake-CC.txt', mh_cc.to_numpy(), fmt=\"%5.1f %7.1f %6.2f %10.6f %6.2f %6.2f %6.2f %9.2f\")"
   ]
  },
  {
   "cell_type": "code",
   "execution_count": 55,
   "metadata": {},
   "outputs": [],
   "source": [
    "filename2 = 'C:\\\\Users\\\\carrie.morrill\\\\CMIP5\\\\Sylvia\\\\FGOALS-s2-MH-Mlake.txt'\n",
    "mh = pd.read_csv(filename2, header=None, delim_whitespace=True)\n",
    "mh.columns = ['year','day','tas','huss','sfcWind','rsds','rlds','ps']\n",
    "mh_cc = copy.deepcopy(mh)\n",
    "mh_cc['day'] += np.tile((monmid_6k.round()-monmid_0k),100)\n",
    "for x in range(2,8):\n",
    "     hold = bartlein_calendar.cal_adjust_pmip(mh.columns[x],-999.,-6000.,-6000.,-999.,1.,100.,\"365_day\",np.reshape(mh.iloc[:,x].tolist(),(1,1,1200)),1200)\n",
    "     mh_cc.iloc[:,x]= np.transpose(hold[0,0,:])   \n",
    "np.savetxt('C:\\\\Users\\\\carrie.morrill\\\\CMIP5\\\\Sylvia\\\\FGOALS-s2-MH-Mlake-CC.txt', mh_cc.to_numpy(), fmt=\"%5.1f %7.1f %6.2f %10.6f %6.2f %6.2f %6.2f %9.2f\")"
   ]
  },
  {
   "cell_type": "code",
   "execution_count": 56,
   "metadata": {},
   "outputs": [],
   "source": [
    "filename2 = 'C:\\\\Users\\\\carrie.morrill\\\\CMIP5\\\\Sylvia\\\\FGOALS-s2-MH-Tlake.txt'\n",
    "mh = pd.read_csv(filename2, header=None, delim_whitespace=True)\n",
    "mh.columns = ['year','day','tas','huss','sfcWind','rsds','rlds','ps']\n",
    "mh_cc = copy.deepcopy(mh)\n",
    "mh_cc['day'] += np.tile((monmid_6k.round()-monmid_0k),100)\n",
    "for x in range(2,8):\n",
    "     hold = bartlein_calendar.cal_adjust_pmip(mh.columns[x],-999.,-6000.,-6000.,-999.,1.,100.,\"365_day\",np.reshape(mh.iloc[:,x].tolist(),(1,1,1200)),1200)\n",
    "     mh_cc.iloc[:,x]= np.transpose(hold[0,0,:])   \n",
    "np.savetxt('C:\\\\Users\\\\carrie.morrill\\\\CMIP5\\\\Sylvia\\\\FGOALS-s2-MH-Tlake-CC.txt', mh_cc.to_numpy(), fmt=\"%5.1f %7.1f %6.2f %10.6f %6.2f %6.2f %6.2f %9.2f\")"
   ]
  },
  {
   "cell_type": "code",
   "execution_count": 57,
   "metadata": {},
   "outputs": [],
   "source": [
    "filename2 = 'C:\\\\Users\\\\carrie.morrill\\\\CMIP5\\\\Sylvia\\\\GISS-MH-Mlake.txt'\n",
    "mh = pd.read_csv(filename2, header=None, delim_whitespace=True)\n",
    "mh.columns = ['year','day','tas','huss','sfcWind','rsds','rlds','ps']\n",
    "mh_cc = copy.deepcopy(mh)\n",
    "mh_cc['day'] += np.tile((monmid_6k.round()-monmid_0k),100)\n",
    "for x in range(2,8):\n",
    "     hold = bartlein_calendar.cal_adjust_pmip(mh.columns[x],-999.,-6000.,-6000.,-999.,1.,100.,\"365_day\",np.reshape(mh.iloc[:,x].tolist(),(1,1,1200)),1200)\n",
    "     mh_cc.iloc[:,x]= np.transpose(hold[0,0,:])   \n",
    "np.savetxt('C:\\\\Users\\\\carrie.morrill\\\\CMIP5\\\\Sylvia\\\\GISS-MH-Mlake-CC.txt', mh_cc.to_numpy(), fmt=\"%5.1f %7.1f %6.2f %10.6f %6.2f %6.2f %6.2f %9.2f\")"
   ]
  },
  {
   "cell_type": "code",
   "execution_count": 59,
   "metadata": {},
   "outputs": [],
   "source": [
    "filename2 = 'C:\\\\Users\\\\carrie.morrill\\\\CMIP5\\\\Sylvia\\\\GISS-MH-Tlake.txt'\n",
    "mh = pd.read_csv(filename2, header=None, delim_whitespace=True)\n",
    "mh.columns = ['year','day','tas','huss','sfcWind','rsds','rlds','ps']\n",
    "mh_cc = copy.deepcopy(mh)\n",
    "mh_cc['day'] += np.tile((monmid_6k.round()-monmid_0k),100)\n",
    "for x in range(2,8):\n",
    "     hold = bartlein_calendar.cal_adjust_pmip(mh.columns[x],-999.,-6000.,-6000.,-999.,1.,100.,\"365_day\",np.reshape(mh.iloc[:,x].tolist(),(1,1,1200)),1200)\n",
    "     mh_cc.iloc[:,x]= np.transpose(hold[0,0,:])   \n",
    "np.savetxt('C:\\\\Users\\\\carrie.morrill\\\\CMIP5\\\\Sylvia\\\\GISS-MH-Tlake-CC.txt', mh_cc.to_numpy(), fmt=\"%5.1f %7.1f %6.2f %10.6f %6.2f %6.2f %6.2f %9.2f\")"
   ]
  },
  {
   "cell_type": "code",
   "execution_count": 60,
   "metadata": {},
   "outputs": [],
   "source": [
    "filename2 = 'C:\\\\Users\\\\carrie.morrill\\\\CMIP5\\\\Sylvia\\\\HAD-MH-Mlake.txt'\n",
    "mh = pd.read_csv(filename2, header=None, delim_whitespace=True)\n",
    "mh.columns = ['year','day','tas','huss','sfcWind','rsds','rlds','ps']\n",
    "mh_cc = copy.deepcopy(mh)\n",
    "mh_cc['day'] += np.tile((monmid_6k.round()-monmid_0k),100)\n",
    "for x in range(2,8):\n",
    "     hold = bartlein_calendar.cal_adjust_pmip(mh.columns[x],-999.,-6000.,-6000.,-999.,1.,100.,\"360_day\",np.reshape(mh.iloc[:,x].tolist(),(1,1,1200)),1200)\n",
    "     mh_cc.iloc[:,x]= np.transpose(hold[0,0,:])   \n",
    "np.savetxt('C:\\\\Users\\\\carrie.morrill\\\\CMIP5\\\\Sylvia\\\\HAD-MH-Mlake-CC.txt', mh_cc.to_numpy(), fmt=\"%5.1f %7.1f %6.2f %10.6f %6.2f %6.2f %6.2f %9.2f\")"
   ]
  },
  {
   "cell_type": "code",
   "execution_count": 61,
   "metadata": {},
   "outputs": [],
   "source": [
    "filename2 = 'C:\\\\Users\\\\carrie.morrill\\\\CMIP5\\\\Sylvia\\\\HAD-MH-Tlake.txt'\n",
    "mh = pd.read_csv(filename2, header=None, delim_whitespace=True)\n",
    "mh.columns = ['year','day','tas','huss','sfcWind','rsds','rlds','ps']\n",
    "mh_cc = copy.deepcopy(mh)\n",
    "mh_cc['day'] += np.tile((monmid_6k.round()-monmid_0k),100)\n",
    "for x in range(2,8):\n",
    "     hold = bartlein_calendar.cal_adjust_pmip(mh.columns[x],-999.,-6000.,-6000.,-999.,1.,100.,\"360_day\",np.reshape(mh.iloc[:,x].tolist(),(1,1,1200)),1200)\n",
    "     mh_cc.iloc[:,x]= np.transpose(hold[0,0,:])   \n",
    "np.savetxt('C:\\\\Users\\\\carrie.morrill\\\\CMIP5\\\\Sylvia\\\\HAD-MH-Tlake-CC.txt', mh_cc.to_numpy(), fmt=\"%5.1f %7.1f %6.2f %10.6f %6.2f %6.2f %6.2f %9.2f\")"
   ]
  },
  {
   "cell_type": "code",
   "execution_count": 62,
   "metadata": {},
   "outputs": [],
   "source": [
    "filename2 = 'C:\\\\Users\\\\carrie.morrill\\\\CMIP5\\\\Sylvia\\\\IPSL-MH-Mlake.txt'\n",
    "mh = pd.read_csv(filename2, header=None, delim_whitespace=True)\n",
    "mh.columns = ['year','day','tas','huss','sfcWind','rsds','rlds','ps']\n",
    "mh_cc = copy.deepcopy(mh)\n",
    "mh_cc['day'] += np.tile((monmid_6k.round()-monmid_0k),100)\n",
    "for x in range(2,8):\n",
    "     hold = bartlein_calendar.cal_adjust_pmip(mh.columns[x],-999.,-6000.,-6000.,-999.,1.,100.,\"365_day\",np.reshape(mh.iloc[:,x].tolist(),(1,1,1200)),1200)\n",
    "     mh_cc.iloc[:,x]= np.transpose(hold[0,0,:])   \n",
    "np.savetxt('C:\\\\Users\\\\carrie.morrill\\\\CMIP5\\\\Sylvia\\\\IPSL-MH-Mlake-CC.txt', mh_cc.to_numpy(), fmt=\"%5.1f %7.1f %6.2f %10.6f %6.2f %6.2f %6.2f %9.2f\")"
   ]
  },
  {
   "cell_type": "code",
   "execution_count": 63,
   "metadata": {},
   "outputs": [],
   "source": [
    "filename2 = 'C:\\\\Users\\\\carrie.morrill\\\\CMIP5\\\\Sylvia\\\\IPSL-MH-Tlake.txt'\n",
    "mh = pd.read_csv(filename2, header=None, delim_whitespace=True)\n",
    "mh.columns = ['year','day','tas','huss','sfcWind','rsds','rlds','ps']\n",
    "mh_cc = copy.deepcopy(mh)\n",
    "mh_cc['day'] += np.tile((monmid_6k.round()-monmid_0k),100)\n",
    "for x in range(2,8):\n",
    "     hold = bartlein_calendar.cal_adjust_pmip(mh.columns[x],-999.,-6000.,-6000.,-999.,1.,100.,\"365_day\",np.reshape(mh.iloc[:,x].tolist(),(1,1,1200)),1200)\n",
    "     mh_cc.iloc[:,x]= np.transpose(hold[0,0,:])   \n",
    "np.savetxt('C:\\\\Users\\\\carrie.morrill\\\\CMIP5\\\\Sylvia\\\\IPSL-MH-Tlake-CC.txt', mh_cc.to_numpy(), fmt=\"%5.1f %7.1f %6.2f %10.6f %6.2f %6.2f %6.2f %9.2f\")"
   ]
  },
  {
   "cell_type": "code",
   "execution_count": 67,
   "metadata": {},
   "outputs": [],
   "source": [
    "filename2 = 'C:\\\\Users\\\\carrie.morrill\\\\CMIP5\\\\Sylvia\\\\MIROC-MH-Mlake.txt'\n",
    "mh = pd.read_csv(filename2, header=None, delim_whitespace=True)\n",
    "mh.columns = ['year','day','tas','huss','sfcWind','rsds','rlds','ps']\n",
    "mh_cc = copy.deepcopy(mh)\n",
    "mh_cc['day'] += np.tile((monmid_6k.round()-monmid_0k),100)\n",
    "for x in range(2,8):\n",
    "     hold = bartlein_calendar.cal_adjust_pmip(mh.columns[x],-999.,-6000.,-6000.,-999.,1.,100.,\"gregorian\",np.reshape(mh.iloc[:,x].tolist(),(1,1,1200)),1200)\n",
    "     mh_cc.iloc[:,x]= np.transpose(hold[0,0,:])   \n",
    "np.savetxt('C:\\\\Users\\\\carrie.morrill\\\\CMIP5\\\\Sylvia\\\\MIROC-MH-Mlake-CC.txt', mh_cc.to_numpy(), fmt=\"%5.1f %7.1f %6.2f %10.6f %6.2f %6.2f %6.2f %9.2f\")"
   ]
  },
  {
   "cell_type": "code",
   "execution_count": 66,
   "metadata": {},
   "outputs": [],
   "source": [
    "filename2 = 'C:\\\\Users\\\\carrie.morrill\\\\CMIP5\\\\Sylvia\\\\MIROC-MH-Tlake.txt'\n",
    "mh = pd.read_csv(filename2, header=None, delim_whitespace=True)\n",
    "mh.columns = ['year','day','tas','huss','sfcWind','rsds','rlds','ps']\n",
    "mh_cc = copy.deepcopy(mh)\n",
    "mh_cc['day'] += np.tile((monmid_6k.round()-monmid_0k),100)\n",
    "for x in range(2,8):\n",
    "     hold = bartlein_calendar.cal_adjust_pmip(mh.columns[x],-999.,-6000.,-6000.,-999.,1.,100.,\"gregorian\",np.reshape(mh.iloc[:,x].tolist(),(1,1,1200)),1200)\n",
    "     mh_cc.iloc[:,x]= np.transpose(hold[0,0,:])   \n",
    "np.savetxt('C:\\\\Users\\\\carrie.morrill\\\\CMIP5\\\\Sylvia\\\\MIROC-MH-Tlake-CC.txt', mh_cc.to_numpy(), fmt=\"%5.1f %7.1f %6.2f %10.6f %6.2f %6.2f %6.2f %9.2f\")"
   ]
  },
  {
   "cell_type": "code",
   "execution_count": 68,
   "metadata": {},
   "outputs": [],
   "source": [
    "filename2 = 'C:\\\\Users\\\\carrie.morrill\\\\CMIP5\\\\Sylvia\\\\MRI-MH-Mlake.txt'\n",
    "mh = pd.read_csv(filename2, header=None, delim_whitespace=True)\n",
    "mh.columns = ['year','day','tas','huss','sfcWind','rsds','rlds','ps']\n",
    "mh_cc = copy.deepcopy(mh)\n",
    "mh_cc['day'] += np.tile((monmid_6k.round()-monmid_0k),100)\n",
    "for x in range(2,8):\n",
    "     hold = bartlein_calendar.cal_adjust_pmip(mh.columns[x],-999.,-6000.,-6000.,-999.,1.,100.,\"gregorian\",np.reshape(mh.iloc[:,x].tolist(),(1,1,1200)),1200)\n",
    "     mh_cc.iloc[:,x]= np.transpose(hold[0,0,:])   \n",
    "np.savetxt('C:\\\\Users\\\\carrie.morrill\\\\CMIP5\\\\Sylvia\\\\MRI-MH-Mlake-CC.txt', mh_cc.to_numpy(), fmt=\"%5.1f %7.1f %6.2f %10.6f %6.2f %6.2f %6.2f %9.2f\")"
   ]
  },
  {
   "cell_type": "code",
   "execution_count": 69,
   "metadata": {},
   "outputs": [],
   "source": [
    "filename2 = 'C:\\\\Users\\\\carrie.morrill\\\\CMIP5\\\\Sylvia\\\\MRI-MH-Tlake.txt'\n",
    "mh = pd.read_csv(filename2, header=None, delim_whitespace=True)\n",
    "mh.columns = ['year','day','tas','huss','sfcWind','rsds','rlds','ps']\n",
    "mh_cc = copy.deepcopy(mh)\n",
    "mh_cc['day'] += np.tile((monmid_6k.round()-monmid_0k),100)\n",
    "for x in range(2,8):\n",
    "     hold = bartlein_calendar.cal_adjust_pmip(mh.columns[x],-999.,-6000.,-6000.,-999.,1.,100.,\"gregorian\",np.reshape(mh.iloc[:,x].tolist(),(1,1,1200)),1200)\n",
    "     mh_cc.iloc[:,x]= np.transpose(hold[0,0,:])   \n",
    "np.savetxt('C:\\\\Users\\\\carrie.morrill\\\\CMIP5\\\\Sylvia\\\\MRI-MH-Tlake-CC.txt', mh_cc.to_numpy(), fmt=\"%5.1f %7.1f %6.2f %10.6f %6.2f %6.2f %6.2f %9.2f\")"
   ]
  },
  {
   "cell_type": "code",
   "execution_count": 70,
   "metadata": {},
   "outputs": [],
   "source": [
    "filename2 = 'C:\\\\Users\\\\carrie.morrill\\\\CMIP5\\\\Sylvia\\\\MPIp1-MH-Mlake.txt'\n",
    "mh = pd.read_csv(filename2, header=None, delim_whitespace=True)\n",
    "mh.columns = ['year','day','tas','huss','sfcWind','rsds','rlds','ps']\n",
    "mh_cc = copy.deepcopy(mh)\n",
    "mh_cc['day'] += np.tile((monmid_6k.round()-monmid_0k),100)\n",
    "for x in range(2,8):\n",
    "     hold = bartlein_calendar.cal_adjust_pmip(mh.columns[x],-999.,-6000.,-6000.,-999.,1.,100.,\"proleptic_gregorian\",np.reshape(mh.iloc[:,x].tolist(),(1,1,1200)),1200)\n",
    "     mh_cc.iloc[:,x]= np.transpose(hold[0,0,:])   \n",
    "np.savetxt('C:\\\\Users\\\\carrie.morrill\\\\CMIP5\\\\Sylvia\\\\MPIp1-MH-Mlake-CC.txt', mh_cc.to_numpy(), fmt=\"%5.1f %7.1f %6.2f %10.6f %6.2f %6.2f %6.2f %9.2f\")"
   ]
  },
  {
   "cell_type": "code",
   "execution_count": 71,
   "metadata": {},
   "outputs": [],
   "source": [
    "filename2 = 'C:\\\\Users\\\\carrie.morrill\\\\CMIP5\\\\Sylvia\\\\MPIp1-MH-Tlake.txt'\n",
    "mh = pd.read_csv(filename2, header=None, delim_whitespace=True)\n",
    "mh.columns = ['year','day','tas','huss','sfcWind','rsds','rlds','ps']\n",
    "mh_cc = copy.deepcopy(mh)\n",
    "mh_cc['day'] += np.tile((monmid_6k.round()-monmid_0k),100)\n",
    "for x in range(2,8):\n",
    "     hold = bartlein_calendar.cal_adjust_pmip(mh.columns[x],-999.,-6000.,-6000.,-999.,1.,100.,\"proleptic_gregorian\",np.reshape(mh.iloc[:,x].tolist(),(1,1,1200)),1200)\n",
    "     mh_cc.iloc[:,x]= np.transpose(hold[0,0,:])   \n",
    "np.savetxt('C:\\\\Users\\\\carrie.morrill\\\\CMIP5\\\\Sylvia\\\\MPIp1-MH-Tlake-CC.txt', mh_cc.to_numpy(), fmt=\"%5.1f %7.1f %6.2f %10.6f %6.2f %6.2f %6.2f %9.2f\")"
   ]
  },
  {
   "cell_type": "code",
   "execution_count": 72,
   "metadata": {},
   "outputs": [],
   "source": [
    "filename2 = 'C:\\\\Users\\\\carrie.morrill\\\\CMIP5\\\\Sylvia\\\\MPIp2-MH-Mlake.txt'\n",
    "mh = pd.read_csv(filename2, header=None, delim_whitespace=True)\n",
    "mh.columns = ['year','day','tas','huss','sfcWind','rsds','rlds','ps']\n",
    "mh_cc = copy.deepcopy(mh)\n",
    "mh_cc['day'] += np.tile((monmid_6k.round()-monmid_0k),100)\n",
    "for x in range(2,8):\n",
    "     hold = bartlein_calendar.cal_adjust_pmip(mh.columns[x],-999.,-6000.,-6000.,-999.,1.,100.,\"proleptic_gregorian\",np.reshape(mh.iloc[:,x].tolist(),(1,1,1200)),1200)\n",
    "     mh_cc.iloc[:,x]= np.transpose(hold[0,0,:])   \n",
    "np.savetxt('C:\\\\Users\\\\carrie.morrill\\\\CMIP5\\\\Sylvia\\\\MPIp2-MH-Mlake-CC.txt', mh_cc.to_numpy(), fmt=\"%5.1f %7.1f %6.2f %10.6f %6.2f %6.2f %6.2f %9.2f\")"
   ]
  },
  {
   "cell_type": "code",
   "execution_count": 73,
   "metadata": {},
   "outputs": [],
   "source": [
    "filename2 = 'C:\\\\Users\\\\carrie.morrill\\\\CMIP5\\\\Sylvia\\\\MPIp2-MH-Tlake.txt'\n",
    "mh = pd.read_csv(filename2, header=None, delim_whitespace=True)\n",
    "mh.columns = ['year','day','tas','huss','sfcWind','rsds','rlds','ps']\n",
    "mh_cc = copy.deepcopy(mh)\n",
    "mh_cc['day'] += np.tile((monmid_6k.round()-monmid_0k),100)\n",
    "for x in range(2,8):\n",
    "     hold = bartlein_calendar.cal_adjust_pmip(mh.columns[x],-999.,-6000.,-6000.,-999.,1.,100.,\"proleptic_gregorian\",np.reshape(mh.iloc[:,x].tolist(),(1,1,1200)),1200)\n",
    "     mh_cc.iloc[:,x]= np.transpose(hold[0,0,:])   \n",
    "np.savetxt('C:\\\\Users\\\\carrie.morrill\\\\CMIP5\\\\Sylvia\\\\MPIp2-MH-Tlake-CC.txt', mh_cc.to_numpy(), fmt=\"%5.1f %7.1f %6.2f %10.6f %6.2f %6.2f %6.2f %9.2f\")"
   ]
  }
 ],
 "metadata": {
  "kernelspec": {
   "display_name": "Python 3",
   "language": "python",
   "name": "python3"
  },
  "language_info": {
   "codemirror_mode": {
    "name": "ipython",
    "version": 3
   },
   "file_extension": ".py",
   "mimetype": "text/x-python",
   "name": "python",
   "nbconvert_exporter": "python",
   "pygments_lexer": "ipython3",
   "version": "3.7.4"
  }
 },
 "nbformat": 4,
 "nbformat_minor": 2
}
